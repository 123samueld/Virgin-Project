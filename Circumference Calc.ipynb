{
 "cells": [
  {
   "cell_type": "code",
   "execution_count": 1,
   "metadata": {},
   "outputs": [
    {
     "name": "stdout",
     "output_type": "stream",
     "text": [
      "This is a circumference calculator.\n",
      "\n",
      "Please enter the diameter of the circle: 8\n",
      "\n",
      "201.14285714285714\n"
     ]
    }
   ],
   "source": [
    "print(\"This is a circumference calculator.\")\n",
    "print()\n",
    "result = int(input(\"Please enter the diameter of the circle: \"))\n",
    "print()\n",
    "answer = (22/7)*(result**2)\n",
    "print (answer)"
   ]
  },
  {
   "cell_type": "code",
   "execution_count": null,
   "metadata": {},
   "outputs": [],
   "source": []
  }
 ],
 "metadata": {
  "kernelspec": {
   "display_name": "Python 3",
   "language": "python",
   "name": "python3"
  },
  "language_info": {
   "codemirror_mode": {
    "name": "ipython",
    "version": 3
   },
   "file_extension": ".py",
   "mimetype": "text/x-python",
   "name": "python",
   "nbconvert_exporter": "python",
   "pygments_lexer": "ipython3",
   "version": "3.6.4"
  }
 },
 "nbformat": 4,
 "nbformat_minor": 2
}
